{
  "nbformat": 4,
  "nbformat_minor": 0,
  "metadata": {
    "kernelspec": {
      "name": "python3",
      "display_name": "Python 3"
    },
    "language_info": {
      "codemirror_mode": {
        "name": "ipython",
        "version": 3
      },
      "file_extension": ".py",
      "mimetype": "text/x-python",
      "name": "python",
      "nbconvert_exporter": "python",
      "pygments_lexer": "ipython3",
      "version": "3.5.2"
    },
    "colab": {
      "name": "meli-TFH-v3_1.ipynb",
      "provenance": [],
      "toc_visible": true,
      "include_colab_link": true
    },
    "accelerator": "GPU"
  },
  "cells": [
    {
      "cell_type": "markdown",
      "metadata": {
        "id": "view-in-github",
        "colab_type": "text"
      },
      "source": [
        "<a href=\"https://colab.research.google.com/github/eduardofv/meli2019/blob/master/meli_TFH_v3_1.ipynb\" target=\"_parent\"><img src=\"https://colab.research.google.com/assets/colab-badge.svg\" alt=\"Open In Colab\"/></a>"
      ]
    },
    {
      "cell_type": "markdown",
      "metadata": {
        "id": "Y7vanyQENc-z",
        "colab_type": "text"
      },
      "source": [
        "## MercadoLibre Challenge \n",
        "### TensorflowHub embeddings"
      ]
    },
    {
      "cell_type": "code",
      "metadata": {
        "id": "WSj1dec9Nl6u",
        "colab_type": "code",
        "colab": {}
      },
      "source": [
        "#!pip install tensorflow-gpu==2.0.0b0 --user\n",
        "#!pip install sklearn --user\n",
        "### OJO: Reiniciar el kernel despues de instalar esto"
      ],
      "execution_count": 0,
      "outputs": []
    },
    {
      "cell_type": "code",
      "metadata": {
        "id": "UohO8QoBN97M",
        "colab_type": "code",
        "colab": {}
      },
      "source": [
        "#!wget https://meli-data-challenge.s3.amazonaws.com/train.csv.gz\n",
        "#!wget https://meli-data-challenge.s3.amazonaws.com/test.csv"
      ],
      "execution_count": 0,
      "outputs": []
    },
    {
      "cell_type": "code",
      "metadata": {
        "id": "CDSUD1kHOL8v",
        "colab_type": "code",
        "colab": {}
      },
      "source": [
        "#!gunzip train.csv.gz"
      ],
      "execution_count": 0,
      "outputs": []
    },
    {
      "cell_type": "code",
      "metadata": {
        "id": "eemTwq0QOzBn",
        "colab_type": "code",
        "colab": {}
      },
      "source": [
        "#!mkdir saved_models"
      ],
      "execution_count": 0,
      "outputs": []
    },
    {
      "cell_type": "code",
      "metadata": {
        "id": "ngGmzeDQNc-1",
        "colab_type": "code",
        "colab": {}
      },
      "source": [
        "EXPERIMENT_NAME = \"meli-TFH\" \n",
        "EXPERIMENT_VERSION = \"v3_1\"\n",
        "LOG_DIR = \"logs/TFH-3\""
      ],
      "execution_count": 0,
      "outputs": []
    },
    {
      "cell_type": "markdown",
      "metadata": {
        "id": "mivegh1jNc-5",
        "colab_type": "text"
      },
      "source": [
        "## Version log\n",
        "\n",
        "### TFH-v3_1\n",
        "\n",
        "Es la versión 3, final del challenge, ejecutada en GPU de muestra con el objetivo de tener una versión en Jupyter que se pueda compartir y analizar mas fácilmente. \n",
        "\n",
        "### TFH-v2_3\n",
        "Viene de 2_2_2\n",
        "\n",
        "### TFH-v2_2\n",
        "\n",
        "Ajustar hiperparámetros para buscar mejor score\n",
        "\n",
        "### TFH-v2_1\n",
        "\n",
        "Usar normalización\n",
        "\n",
        "### TFH-v2_0\n",
        "\n",
        "Nueva arquitectura, incorporarar info de lenguaje\n",
        "\n",
        "Viene de meli-TFH-v1_1"
      ]
    },
    {
      "cell_type": "markdown",
      "metadata": {
        "id": "-7MMe_GFNc-6",
        "colab_type": "text"
      },
      "source": [
        "## Development"
      ]
    },
    {
      "cell_type": "markdown",
      "metadata": {
        "id": "qENHpXGONc-7",
        "colab_type": "text"
      },
      "source": [
        "### Initialize"
      ]
    },
    {
      "cell_type": "code",
      "metadata": {
        "id": "kdmo1wPRNc-8",
        "colab_type": "code",
        "colab": {}
      },
      "source": [
        "%matplotlib inline\n",
        "\n",
        "import sys\n",
        "import os\n",
        "\n",
        "#os.environ['CUDA_VISIBLE_DEVICES'] = '-1' #disable gpu\n",
        "\n",
        "import time\n",
        "import pickle\n",
        "import numpy as np\n",
        "import pandas as pd\n",
        "from sklearn.metrics import balanced_accuracy_score \n",
        "\n",
        "import tensorflow as tf\n",
        "import tensorflow_hub as hub\n",
        "import matplotlib.pyplot as plt\n",
        "\n",
        "from tensorflow.keras.models import Sequential, Model\n",
        "from tensorflow.keras.layers import Embedding, Dense, Dropout\n",
        "from tensorflow.keras.layers import Concatenate, Input\n",
        "from tensorflow.keras.optimizers import RMSprop, Adam\n",
        "from tensorflow.keras.callbacks import TensorBoard, ModelCheckpoint\n",
        "from tensorflow.keras.utils import to_categorical"
      ],
      "execution_count": 0,
      "outputs": []
    },
    {
      "cell_type": "code",
      "metadata": {
        "id": "GsvMTQyjNc-_",
        "colab_type": "code",
        "outputId": "6616a6b0-b1ba-4bd7-cbf3-12cab4db8870",
        "colab": {
          "base_uri": "https://localhost:8080/",
          "height": 51
        }
      },
      "source": [
        "print(f\"TF Version: {tf.__version__}\")\n",
        "print(f\"TF Hub Version: {hub.__version__}\")\n",
        "assert( tf.__version__ >= \"2.0.0-beta0\" ) #rc1\n",
        "assert( hub.__version__ >= \"0.3\" ) #\"0.7.0.dev\""
      ],
      "execution_count": 0,
      "outputs": [
        {
          "output_type": "stream",
          "text": [
            "TF Version: 2.0.0-beta0\n",
            "TF Hub Version: 0.6.0\n"
          ],
          "name": "stdout"
        }
      ]
    },
    {
      "cell_type": "code",
      "metadata": {
        "id": "BRMBZyecNc_C",
        "colab_type": "code",
        "colab": {}
      },
      "source": [
        "#initialize env\n",
        "#seeds to make reproducible\n",
        "#todo: check reproducibility\n",
        "np.random.seed(12347)\n",
        "tf.random.set_seed(12347)\n",
        "\n",
        "pd.options.display.max_rows = 10\n",
        "\n",
        "#filenames and directories\n",
        "DATASET_FN = \"train.csv\"\n",
        "ROWS_TO_LOAD = None#4000000 #None == all\n",
        "SAVED_MODEL_DIR = \"saved_models/\"\n",
        "\n",
        "#TFHUB_EMB_MODEL = \"https://tfhub.dev/google/universal-sentence-encoder/2\" \n",
        "# download the module manually if network problems \n",
        "# like URLError: <urlopen error [Errno -3] Temporary failure in name resolution>\n",
        "# check https://www.tensorflow.org/hub/common_issues \n",
        "#TFHUB_EMB_MODEL = \"../tf_hub_cache/gnews-swivel-20dim-v1\"\n",
        "#TFHUB_EMB_MODEL = \"../tf_hub_cache/nnlm-es-dim50\" #\n",
        "#TFHUB_EMB_MODEL = \"https://tfhub.dev/google/tf2-preview/nnlm-en-dim128/1\"\n",
        "#TFHUB_EMB_MODEL = \"https://tfhub.dev/google/tf2-preview/nnlm-es-dim128/1\"\n",
        "#TFHUB_EMB_MODEL = \"../tf_hub_cache/nnlm-es-dim128-with-normalization\"\n",
        "TFHUB_EMB_MODEL = \"https://tfhub.dev/google/tf2-preview/nnlm-es-dim128-with-normalization/1\"\n",
        "TFHUB_EMB_MODEL_DIM = 128\n",
        "LANGUAGE = \"spanish\" #\"portuguese\" #None\n",
        "\n",
        "MODEL_DENSE_UNITS = 2048\n",
        "MODEL_DROPOUT_RATE = 0.5\n",
        "\n",
        "#Training\n",
        "TRAIN_EPOCHS = 3\n",
        "TRAIN_INITIAL_EPOCH = 0\n",
        "TRAIN_BATCH_SIZE = 8192\n",
        "\n",
        "#set some parameters on how data will be used\n",
        "# specify a small proportion to speed things while testing, 1.0 when running full training\n",
        "DATASET_PROPORTION_TO_USE = 1.0\n",
        "# how much data will reserve for test set (of the DS prop to use) (0.10)\n",
        "TEST_SET_SPLIT = 0.004\n",
        "# how much of the data will be used for validation (of the DS prop to use) (0.05)\n",
        "VALIDATION_SET_SPLIT = 0.004"
      ],
      "execution_count": 0,
      "outputs": []
    },
    {
      "cell_type": "markdown",
      "metadata": {
        "id": "PYfbdmxtNc_F",
        "colab_type": "text"
      },
      "source": [
        "### Load and prepare datasets"
      ]
    },
    {
      "cell_type": "code",
      "metadata": {
        "id": "dFFqmqeUNc_F",
        "colab_type": "code",
        "outputId": "f1b4a7b8-9ed2-4af7-f732-2eef0135d40f",
        "colab": {
          "base_uri": "https://localhost:8080/",
          "height": 255
        }
      },
      "source": [
        "df = pd.read_csv(DATASET_FN, nrows=ROWS_TO_LOAD)\n",
        "if LANGUAGE is not None:\n",
        "    df = df[df[\"language\"]==LANGUAGE]\n",
        "print(df)"
      ],
      "execution_count": 0,
      "outputs": [
        {
          "output_type": "stream",
          "text": [
            "                                                      title  ...                   category\n",
            "0         Hidrolavadora Lavor One 120 Bar 1700w  Bomba A...  ...  ELECTRIC_PRESSURE_WASHERS\n",
            "1                         Placa De Sonido - Behringer Umc22  ...                SOUND_CARDS\n",
            "4         Flashes Led Pestañas Luminoso Falso Pestañas P...  ...            FALSE_EYELASHES\n",
            "9                                 Gatito Lunchera Neoprene   ...                 LUNCHBOXES\n",
            "11        Rosario Contador De Billetes Uv / Mg Detecta F...  ...              BILL_COUNTERS\n",
            "...                                                     ...  ...                        ...\n",
            "19999993      + Frazada Termica Antipiling 2 P Jean Cartier  ...                   BLANKETS\n",
            "19999994                 Pijama Homero Simpson Mujer Verano  ...                    PAJAMAS\n",
            "19999995     Brochas De Maquillaje Kylie Set De 12 Unidades  ...             MAKEUP_BRUSHES\n",
            "19999996       Trimmer Detailer Wahl + Kit Tijeras Stylecut  ...              HAIR_CLIPPERS\n",
            "19999998                 Palo De Hockey Grays Nano 7 37,5''  ...        FIELD_HOCKEY_STICKS\n",
            "\n",
            "[10000000 rows x 4 columns]\n"
          ],
          "name": "stdout"
        }
      ]
    },
    {
      "cell_type": "code",
      "metadata": {
        "id": "BbjTJUVzNc_J",
        "colab_type": "code",
        "outputId": "71bd5a02-734f-4e28-f2d4-17e051122814",
        "colab": {
          "base_uri": "https://localhost:8080/",
          "height": 51
        }
      },
      "source": [
        "output_dim = len(df[\"category\"].unique())\n",
        "print(output_dim)\n",
        "print(list(df[\"category\"][:3]))"
      ],
      "execution_count": 0,
      "outputs": [
        {
          "output_type": "stream",
          "text": [
            "1574\n",
            "['ELECTRIC_PRESSURE_WASHERS', 'SOUND_CARDS', 'FALSE_EYELASHES']\n"
          ],
          "name": "stdout"
        }
      ]
    },
    {
      "cell_type": "code",
      "metadata": {
        "id": "3a2oLd_JNc_M",
        "colab_type": "code",
        "outputId": "037e3098-c759-47ee-9976-29c630ebe4d6",
        "colab": {
          "base_uri": "https://localhost:8080/",
          "height": 85
        }
      },
      "source": [
        "cat_dict = dict(zip(df[\"category\"].unique(), np.arange(output_dim)))\n",
        "inverse_cat_dict = dict(zip(cat_dict.values(), cat_dict.keys()))\n",
        "labels = df[\"category\"].map(cat_dict)\n",
        "#labels = to_categorical(df[\"category\"].map(cat_dict))\n",
        "labels[:3]"
      ],
      "execution_count": 0,
      "outputs": [
        {
          "output_type": "execute_result",
          "data": {
            "text/plain": [
              "0    0\n",
              "1    1\n",
              "4    2\n",
              "Name: category, dtype: int64"
            ]
          },
          "metadata": {
            "tags": []
          },
          "execution_count": 11
        }
      ]
    },
    {
      "cell_type": "code",
      "metadata": {
        "id": "pyTrevR5Nc_P",
        "colab_type": "code",
        "colab": {}
      },
      "source": [
        "language = (df[\"language\"]==LANGUAGE).astype(\"int32\")"
      ],
      "execution_count": 0,
      "outputs": []
    },
    {
      "cell_type": "markdown",
      "metadata": {
        "id": "3xtFAf0pNc_S",
        "colab_type": "text"
      },
      "source": [
        "### Split datasets"
      ]
    },
    {
      "cell_type": "code",
      "metadata": {
        "id": "HNKPPtZWNc_T",
        "colab_type": "code",
        "outputId": "435e92ba-d2d6-4e73-8be6-53446bb19e6a",
        "colab": {
          "base_uri": "https://localhost:8080/",
          "height": 85
        }
      },
      "source": [
        "num_samples = len(df)\n",
        "num_test_samples = int(num_samples * TEST_SET_SPLIT)\n",
        "num_training_samples = num_samples - num_test_samples\n",
        "\n",
        "training_set_data = df[\"title\"].head(num_training_samples)\n",
        "training_set_lang = language[:num_training_samples]\n",
        "training_set_labels = labels[:num_training_samples]\n",
        "test_set_data = df[\"title\"].tail(num_test_samples)\n",
        "test_set_lang = language[-num_test_samples:]\n",
        "test_set_labels = labels[-num_test_samples:]\n",
        "\n",
        "print(training_set_data.shape)\n",
        "print(training_set_labels.shape)\n",
        "print(test_set_data.shape)\n",
        "print(test_set_labels.shape)"
      ],
      "execution_count": 0,
      "outputs": [
        {
          "output_type": "stream",
          "text": [
            "(9960000,)\n",
            "(9960000,)\n",
            "(40000,)\n",
            "(40000,)\n"
          ],
          "name": "stdout"
        }
      ]
    },
    {
      "cell_type": "markdown",
      "metadata": {
        "id": "X8CJJej3Nc_W",
        "colab_type": "text"
      },
      "source": [
        "### Build Model"
      ]
    },
    {
      "cell_type": "code",
      "metadata": {
        "id": "NweEh9PdNc_Y",
        "colab_type": "code",
        "outputId": "b4718583-a36b-4805-e61c-baf713aef53e",
        "colab": {
          "base_uri": "https://localhost:8080/",
          "height": 493
        }
      },
      "source": [
        "hub_layer = hub.KerasLayer(TFHUB_EMB_MODEL,\n",
        "                    input_shape=[],\n",
        "                    output_shape=[TFHUB_EMB_MODEL_DIM],\n",
        "                    trainable=True, \n",
        "                    dtype=tf.string)\n",
        "\n",
        "input_lang = Input(shape=(1,))\n",
        "\n",
        "mod = Sequential()\n",
        "mod.add(hub_layer)\n",
        "\n",
        "fo = Dense(MODEL_DENSE_UNITS, activation=\"relu\", name=\"DEN_1\")(mod.output)\n",
        "fo = Dropout(rate=MODEL_DROPOUT_RATE)(fo)\n",
        "fo = Dense(MODEL_DENSE_UNITS, activation=\"relu\", name=\"DEN_2\")(fo)\n",
        "fo = Dropout(rate=MODEL_DROPOUT_RATE)(fo)\n",
        "fo = Concatenate()([fo, input_lang])\n",
        "fo = Dense(output_dim, activation=\"softmax\", name=\"DEN_OUT\")(fo)\n",
        "model = Model(inputs=[mod.input, input_lang], outputs=fo)\n",
        "\n",
        "optimizer = Adam()\n",
        "model.compile(optimizer=optimizer, \n",
        "              loss='sparse_categorical_crossentropy')\n",
        "\n",
        "print(model.summary())"
      ],
      "execution_count": 0,
      "outputs": [
        {
          "output_type": "stream",
          "text": [
            "Model: \"model\"\n",
            "__________________________________________________________________________________________________\n",
            "Layer (type)                    Output Shape         Param #     Connected to                     \n",
            "==================================================================================================\n",
            "keras_layer_input (InputLayer)  [(None,)]            0                                            \n",
            "__________________________________________________________________________________________________\n",
            "keras_layer (KerasLayer)        (None, 128)          125009920   keras_layer_input[0][0]          \n",
            "__________________________________________________________________________________________________\n",
            "DEN_1 (Dense)                   (None, 2048)         264192      keras_layer[0][0]                \n",
            "__________________________________________________________________________________________________\n",
            "dropout (Dropout)               (None, 2048)         0           DEN_1[0][0]                      \n",
            "__________________________________________________________________________________________________\n",
            "DEN_2 (Dense)                   (None, 2048)         4196352     dropout[0][0]                    \n",
            "__________________________________________________________________________________________________\n",
            "dropout_1 (Dropout)             (None, 2048)         0           DEN_2[0][0]                      \n",
            "__________________________________________________________________________________________________\n",
            "input_1 (InputLayer)            [(None, 1)]          0                                            \n",
            "__________________________________________________________________________________________________\n",
            "concatenate (Concatenate)       (None, 2049)         0           dropout_1[0][0]                  \n",
            "                                                                 input_1[0][0]                    \n",
            "__________________________________________________________________________________________________\n",
            "DEN_OUT (Dense)                 (None, 1574)         3226700     concatenate[0][0]                \n",
            "==================================================================================================\n",
            "Total params: 132,697,164\n",
            "Trainable params: 132,697,164\n",
            "Non-trainable params: 0\n",
            "__________________________________________________________________________________________________\n",
            "None\n"
          ],
          "name": "stdout"
        }
      ]
    },
    {
      "cell_type": "markdown",
      "metadata": {
        "id": "wXRDD88JNc_b",
        "colab_type": "text"
      },
      "source": [
        "### Train and Test"
      ]
    },
    {
      "cell_type": "code",
      "metadata": {
        "id": "VhwSDQvHNc_c",
        "colab_type": "code",
        "outputId": "2ca86dab-15f2-4d0e-da41-fede9d1c17cf",
        "colab": {
          "base_uri": "https://localhost:8080/",
          "height": 102
        }
      },
      "source": [
        "#run params\n",
        "runid = \"%s-%s-%s\"%(EXPERIMENT_NAME,\n",
        "     EXPERIMENT_VERSION,\n",
        "     time.strftime(time.strftime('%y%m%d_%H%M',time.localtime())))\n",
        "\n",
        "#Create saved model dir     \n",
        "directory = SAVED_MODEL_DIR+\"/\"+runid\n",
        "if not os.path.exists(directory):\n",
        "    os.makedirs(directory)\n",
        "    \n",
        "print(\"Python: \"+str(sys.version))\n",
        "print(\"Tensorflow version: \"+tf.__version__)\n",
        "print(\"Keras version: \"+tf.keras.__version__)\n",
        "print(\"RUNID: \"+runid)"
      ],
      "execution_count": 0,
      "outputs": [
        {
          "output_type": "stream",
          "text": [
            "Python: 3.6.8 (default, Jan 14 2019, 11:02:34) \n",
            "[GCC 8.0.1 20180414 (experimental) [trunk revision 259383]]\n",
            "Tensorflow version: 2.0.0-beta0\n",
            "Keras version: 2.2.4-tf\n",
            "RUNID: meli-TFH-v3_1-191008_1642\n"
          ],
          "name": "stdout"
        }
      ]
    },
    {
      "cell_type": "code",
      "metadata": {
        "id": "lCWYBcGXNc_f",
        "colab_type": "code",
        "outputId": "f17b3b04-29de-400a-8593-ea416fe0285e",
        "colab": {
          "base_uri": "https://localhost:8080/",
          "height": 428
        }
      },
      "source": [
        "#Train from saved point\n",
        "#model = tf.keras.models.load_model(\"../saved_models/meli-TFH-v3-191001_0150/model.hdf5\", \n",
        "#                                            custom_objects={\"KerasLayer\":hub_layer})\n",
        "\n",
        "print('Training...')\n",
        "tensorboard = TensorBoard(log_dir=LOG_DIR+'/'+runid)\n",
        "checkpoint = ModelCheckpoint(directory+\"/model.hdf5\", monitor='val_loss',\n",
        "                             verbose=1, save_best_only=True, mode=\"min\")\n",
        "\n",
        "# train\n",
        "t0 = time.time()\n",
        "print(\"Start:\"+time.strftime(\"%Y%m%d_%H%M\",time.localtime()))\n",
        "history = model.fit([training_set_data.array, training_set_lang.array], \n",
        "          training_set_labels,\n",
        "          batch_size=TRAIN_BATCH_SIZE,\n",
        "          epochs=TRAIN_EPOCHS,\n",
        "          initial_epoch=TRAIN_INITIAL_EPOCH,\n",
        "          validation_split=VALIDATION_SET_SPLIT,\n",
        "          verbose=1,\n",
        "          callbacks=[tensorboard, checkpoint])\n",
        "\n",
        "tfin = time.time()\n",
        "print(\"End:\" + time.strftime(\"%Y%m%d_%H%M\",time.localtime()))\n",
        "print(tfin-t0)"
      ],
      "execution_count": 0,
      "outputs": [
        {
          "output_type": "stream",
          "text": [
            "Training...\n",
            "Start:20191008_1642\n",
            "WARNING:tensorflow:From /root/.local/lib/python3.6/site-packages/tensorflow/python/ops/math_grad.py:1250: add_dispatch_support.<locals>.wrapper (from tensorflow.python.ops.array_ops) is deprecated and will be removed in a future version.\n",
            "Instructions for updating:\n",
            "Use tf.where in 2.0, which has the same broadcast rule as np.where\n"
          ],
          "name": "stdout"
        },
        {
          "output_type": "stream",
          "text": [
            "WARNING:tensorflow:From /root/.local/lib/python3.6/site-packages/tensorflow/python/ops/math_grad.py:1250: add_dispatch_support.<locals>.wrapper (from tensorflow.python.ops.array_ops) is deprecated and will be removed in a future version.\n",
            "Instructions for updating:\n",
            "Use tf.where in 2.0, which has the same broadcast rule as np.where\n"
          ],
          "name": "stderr"
        },
        {
          "output_type": "stream",
          "text": [
            "Train on 9920160 samples, validate on 39840 samples\n",
            "Epoch 1/3\n",
            "9912320/9920160 [============================>.] - ETA: 0s - loss: 1.2470\n",
            "Epoch 00001: val_loss improved from inf to 0.71021, saving model to saved_models//meli-TFH-v3_1-191008_1642/model.hdf5\n",
            "9920160/9920160 [==============================] - 639s 64us/sample - loss: 1.2466 - val_loss: 0.7102\n",
            "Epoch 2/3\n",
            "9912320/9920160 [============================>.] - ETA: 0s - loss: 0.7096\n",
            "Epoch 00002: val_loss improved from 0.71021 to 0.64746, saving model to saved_models//meli-TFH-v3_1-191008_1642/model.hdf5\n",
            "9920160/9920160 [==============================] - 632s 64us/sample - loss: 0.7096 - val_loss: 0.6475\n",
            "Epoch 3/3\n",
            "9912320/9920160 [============================>.] - ETA: 0s - loss: 0.6389\n",
            "Epoch 00003: val_loss improved from 0.64746 to 0.62296, saving model to saved_models//meli-TFH-v3_1-191008_1642/model.hdf5\n",
            "9920160/9920160 [==============================] - 640s 65us/sample - loss: 0.6388 - val_loss: 0.6230\n",
            "End:20191008_1714\n",
            "1911.8290286064148\n"
          ],
          "name": "stdout"
        }
      ]
    },
    {
      "cell_type": "code",
      "metadata": {
        "id": "_dvYz0P0Nc_l",
        "colab_type": "code",
        "outputId": "2ef172f4-be4e-4226-a4ab-f4ce2fe099b3",
        "colab": {
          "base_uri": "https://localhost:8080/",
          "height": 34
        }
      },
      "source": [
        "fn = directory+\"/history.pickle\"\n",
        "with open(fn, \"wb\")as fo:\n",
        "    pickle.dump(history.history, fo, protocol=4)\n",
        "print(f\"Saved {fn}\")"
      ],
      "execution_count": 0,
      "outputs": [
        {
          "output_type": "stream",
          "text": [
            "Saved saved_models//meli-TFH-v3_1-191008_1642/history.pickle\n"
          ],
          "name": "stdout"
        }
      ]
    },
    {
      "cell_type": "code",
      "metadata": {
        "id": "_m3RU_SFNc_o",
        "colab_type": "code",
        "outputId": "b0670ca7-8782-4adb-bc38-de160aae1143",
        "colab": {
          "base_uri": "https://localhost:8080/",
          "height": 102
        }
      },
      "source": [
        "#Last Model (current)\n",
        "#analysis_model = model\n",
        "\n",
        "#Best Model saved\n",
        "analysis_model = tf.keras.models.load_model(directory+\"/model.hdf5\", \n",
        "                                            custom_objects={\"KerasLayer\":hub_layer})\n",
        "\n",
        "print(\"Predict:\")\n",
        "predictions = analysis_model.predict([test_set_data.array, \n",
        "                                      test_set_lang.array], verbose=1)\n",
        "\n",
        "inverse_cat_dict = dict(zip(cat_dict.values(), cat_dict.keys()))\n",
        "predicted_categories = [inverse_cat_dict[np.argmax(p)] for p in predictions]\n",
        "\n",
        "real_categories = [inverse_cat_dict[p] for p in test_set_labels]\n",
        "\n",
        "bac = balanced_accuracy_score(real_categories, predicted_categories)\n",
        "print(f\"Eval BAC={bac}\")"
      ],
      "execution_count": 0,
      "outputs": [
        {
          "output_type": "stream",
          "text": [
            "Predict:\n",
            "40000/40000 [==============================] - 17s 428us/sample\n",
            "Eval BAC=0.825535295632827\n"
          ],
          "name": "stdout"
        },
        {
          "output_type": "stream",
          "text": [
            "/usr/local/lib/python3.6/dist-packages/sklearn/metrics/classification.py:1745: UserWarning: y_pred contains classes not in y_true\n",
            "  warnings.warn('y_pred contains classes not in y_true')\n"
          ],
          "name": "stderr"
        }
      ]
    },
    {
      "cell_type": "markdown",
      "metadata": {
        "id": "nFRplapxNc_s",
        "colab_type": "text"
      },
      "source": [
        "#### History graphs"
      ]
    },
    {
      "cell_type": "code",
      "metadata": {
        "id": "xS7miRRCNc_t",
        "colab_type": "code",
        "outputId": "bc3a9f4d-12f4-44f2-d4fd-d951aa7cfc33",
        "colab": {
          "base_uri": "https://localhost:8080/",
          "height": 295
        }
      },
      "source": [
        "#with open(directory+\"/history.pickle\", \"rb\") as f:\n",
        "#    history = pickle.load(f)\n",
        "history_dict = history.history #current\n",
        "loss = history_dict['loss']\n",
        "val_loss = history_dict['val_loss']\n",
        "epochs = range(1, len(loss) + 1)\n",
        "plt.plot(epochs, loss, 'r', label='Training loss')\n",
        "plt.plot(epochs, val_loss, 'b', label='Validation loss')\n",
        "plt.title('Training and validation loss')\n",
        "plt.xlabel('Epochs')\n",
        "plt.ylabel('Loss')\n",
        "plt.legend()\n",
        "\n",
        "fn = directory+\"/history.pdf\"\n",
        "plt.show()\n",
        "#Save\n",
        "#plt.savefig(fn)\n",
        "#print(f\"Saved {fn}\")"
      ],
      "execution_count": 0,
      "outputs": [
        {
          "output_type": "display_data",
          "data": {
            "image/png": "[encoded data removed]",
            "text/plain": [
              "<Figure size 432x288 with 1 Axes>"
            ]
          },
          "metadata": {
            "tags": []
          }
        }
      ]
    },
    {
      "cell_type": "markdown",
      "metadata": {
        "id": "oIR22N2WNc_w",
        "colab_type": "text"
      },
      "source": [
        "# Create Submission"
      ]
    },
    {
      "cell_type": "code",
      "metadata": {
        "id": "Ea5Y72PgNc_x",
        "colab_type": "code",
        "outputId": "af0ac9b1-0074-411d-c5d4-28db13692d63",
        "colab": {
          "base_uri": "https://localhost:8080/",
          "height": 51
        }
      },
      "source": [
        "submission_test_df = pd.read_csv(\"test.csv\")\n",
        "#submission_test_df\n",
        "sub_data = submission_test_df[\"title\"]\n",
        "sub_lang = (submission_test_df[\"language\"]=='spanish').astype(\"int32\")\n",
        "\n",
        "sub_predictions = analysis_model.predict([sub_data.array, sub_lang.array], verbose=1)\n",
        "sub_predicted_categories = [inverse_cat_dict[np.argmax(p)] for p in sub_predictions]\n",
        "#sub_predicted_categories[:10]\n",
        "submission = pd.DataFrame({\"id\":range(len(sub_predicted_categories)), \n",
        "                          \"category\":sub_predicted_categories})\n",
        "#submission\n",
        "fn = directory+\"/submission-\"+runid+\".csv\"\n",
        "submission[[\"id\",\"category\"]].to_csv(fn, index=False)\n",
        "print(f\"Saved {fn}\")"
      ],
      "execution_count": 0,
      "outputs": [
        {
          "output_type": "stream",
          "text": [
            "246955/246955 [==============================] - 102s 414us/sample\n",
            "Saved saved_models//meli-TFH-v3_1-191008_1642/submission-meli-TFH-v3_1-191008_1642.csv\n"
          ],
          "name": "stdout"
        }
      ]
    }
  ]
}